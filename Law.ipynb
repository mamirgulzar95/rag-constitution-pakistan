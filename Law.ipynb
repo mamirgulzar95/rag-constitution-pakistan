{
 "cells": [
  {
   "cell_type": "code",
   "execution_count": 3,
   "id": "5b447a86-f403-48be-bff5-8f74bf9f7bb6",
   "metadata": {},
   "outputs": [
    {
     "name": "stdout",
     "output_type": "stream",
     "text": [
      "Collecting PyPDF2\n",
      "  Downloading pypdf2-3.0.1-py3-none-any.whl.metadata (6.8 kB)\n",
      "Downloading pypdf2-3.0.1-py3-none-any.whl (232 kB)\n",
      "Installing collected packages: PyPDF2\n",
      "Successfully installed PyPDF2-3.0.1\n"
     ]
    }
   ],
   "source": [
    "!pip install PyPDF2"
   ]
  },
  {
   "cell_type": "code",
   "execution_count": 4,
   "id": "1e34a93c-109a-4e48-bad7-47b562c196c3",
   "metadata": {},
   "outputs": [
    {
     "name": "stdout",
     "output_type": "stream",
     "text": [
      " \n",
      " \n",
      " \n",
      " \n",
      " \n",
      " \n",
      " \n",
      " \n",
      " \n",
      " \n",
      " \n",
      " \n",
      " \n",
      " \n",
      "THE \n",
      "CONSTITUTION  \n",
      "OF THE  \n",
      "ISLAMIC REPUBLIC  \n",
      "OF \n",
      "PAKISTAN  \n",
      " \n",
      " \n",
      " \n",
      " \n",
      " \n",
      " \n",
      "[As modified upto the  31st May , 2018] \n",
      " \n",
      " \n",
      " \n",
      " \n",
      " \n",
      " \n",
      "NATIONAL ASSEMBLY OF PAKISTAN  \n",
      "\n",
      "PREFACE  \n",
      " \n",
      " The National Assembly of Pakistan passed the Constitution on   \n",
      "10th April, 1973, the President of the Assembly authenticated it on 12th \n",
      "April, 1973 and the Assembly published the Constitution of the  Islamic \n",
      "Republic of Pakistan. Since then, a number of amendments have been \n",
      "made therein and it has become necessary and expedient that an up -to-date \n",
      "and au thentic version of the Constitution be published by the Assembly.  \n",
      " \n",
      " This Eighth  Edition, which is intended to provide an updated \n",
      "version of the Constitution, incorporates all amendments made in it till \n",
      "date.  \n",
      " \n",
      " \n",
      " \n",
      "TAHIR HUSSAIN  \n",
      "Secretary , \n",
      "National Assembly of  Pakistan . \n",
      "ISLAMABAD  : \n",
      "The 31st May, 2018 \n",
      "CONSTITUTION OF PAKI STAN   \n",
      " i THE CONSTITUTION OF THE ISLAMIC REPUBLIC OF PAKISTAN  \n",
      "__________  \n",
      " \n",
      "CONTENTS  \n",
      "____\n"
     ]
    }
   ],
   "source": [
    "from PyPDF2 import PdfReader\n",
    "\n",
    "# Function to load full text from PDF\n",
    "def load_constitution(path):\n",
    "    reader = PdfReader(path)\n",
    "    full_text = \"\"\n",
    "    for page in reader.pages:\n",
    "        full_text += page.extract_text() + \"\\n\"\n",
    "    return full_text\n",
    "\n",
    "# Load the PDF file\n",
    "doc_path = \"constitution.pdf\"  # Make sure it's in the same folder\n",
    "raw_text = load_constitution(doc_path)\n",
    "\n",
    "# Preview the first 1000 characters\n",
    "print(raw_text[:1000])\n"
   ]
  },
  {
   "cell_type": "code",
   "execution_count": 6,
   "id": "b0e01a6d-ffd2-489a-8e63-1e93103210cb",
   "metadata": {},
   "outputs": [
    {
     "name": "stdout",
     "output_type": "stream",
     "text": [
      "\n",
      "--- Chunk 1 ---\n",
      "THE  CONSTITUTION   OF THE   ISLAMIC REPUBLIC   OF  PAKISTAN               [As modified upto the  31st May , 2018]              NATIONAL ASSEMBLY OF PAKISTAN    PREFACE      The National Assembly of Pakistan passed the Constitution on\n",
      "\n",
      "--- Chunk 2 ---\n",
      "10th April, 1973, the President of the Assembly authenticated it on 12th  April, 1973 and the Assembly published the Constitution of the  Islamic  Republic of Pakistan. Since then, a number of amendments have been  made therein and it has become necessary and expedient that an up -to-date\n",
      "\n",
      "--- Chunk 3 ---\n",
      "and au thentic version of the Constitution be published by the Assembly.      This Eighth  Edition, which is intended to provide an updated  version of the Constitution, incorporates all amendments made in it till  date.         TAHIR HUSSAIN   Secretary ,  National Assembly of  Pakistan .\n",
      "\n",
      "✅ Total chunks created: 1744\n"
     ]
    }
   ],
   "source": [
    "# Function to split text into smaller chunks\n",
    "def chunk_text(text, chunk_size=300):\n",
    "    chunks = []\n",
    "    current = \"\"\n",
    "    for line in text.split(\"\\n\"):\n",
    "        if len(current) + len(line) <= chunk_size:\n",
    "            current += line + \" \"\n",
    "        else:\n",
    "            chunks.append(current.strip())\n",
    "            current = line + \" \"\n",
    "    if current:\n",
    "        chunks.append(current.strip())\n",
    "    return chunks\n",
    "\n",
    "# Apply chunking\n",
    "chunks = chunk_text(raw_text)\n",
    "\n",
    "# Preview the first 3 chunks\n",
    "for i, chunk in enumerate(chunks[:3]):\n",
    "    print(f\"\\n--- Chunk {i+1} ---\\n{chunk}\")\n",
    "    \n",
    "print(f\"\\n✅ Total chunks created: {len(chunks)}\")\n"
   ]
  },
  {
   "cell_type": "code",
   "execution_count": 8,
   "id": "ac1027df-370f-40d1-b61e-0a5f49330b90",
   "metadata": {},
   "outputs": [
    {
     "data": {
      "application/vnd.jupyter.widget-view+json": {
       "model_id": "96d706e747e7475ead55250b523ea461",
       "version_major": 2,
       "version_minor": 0
      },
      "text/plain": [
       "Batches:   0%|          | 0/55 [00:00<?, ?it/s]"
      ]
     },
     "metadata": {},
     "output_type": "display_data"
    },
    {
     "name": "stdout",
     "output_type": "stream",
     "text": [
      "✅ Generated 1744 embeddings.\n"
     ]
    }
   ],
   "source": [
    "from sentence_transformers import SentenceTransformer\n",
    "\n",
    "# Load a pre-trained model (MiniLM is small & fast)\n",
    "embedder = SentenceTransformer('all-MiniLM-L6-v2')\n",
    "\n",
    "# Generate embeddings for all chunks\n",
    "embeddings = embedder.encode(chunks, show_progress_bar=True)\n",
    "\n",
    "print(f\"✅ Generated {len(embeddings)} embeddings.\")\n"
   ]
  },
  {
   "cell_type": "code",
   "execution_count": 9,
   "id": "67f29e97-f23f-49c1-a67e-0c4057347bfd",
   "metadata": {},
   "outputs": [
    {
     "name": "stdout",
     "output_type": "stream",
     "text": [
      "✅ FAISS index created with 1744 vectors.\n"
     ]
    }
   ],
   "source": [
    "import faiss\n",
    "import numpy as np\n",
    "\n",
    "# Convert list of embeddings to NumPy array\n",
    "embedding_array = np.array(embeddings).astype(\"float32\")\n",
    "\n",
    "# Create FAISS index\n",
    "dimension = embedding_array.shape[1]\n",
    "index = faiss.IndexFlatL2(dimension)\n",
    "index.add(embedding_array)\n",
    "\n",
    "print(f\"✅ FAISS index created with {index.ntotal} vectors.\")\n"
   ]
  },
  {
   "cell_type": "code",
   "execution_count": 10,
   "id": "08f3e7d7-4c3a-46cf-9b4c-80e3d924274c",
   "metadata": {},
   "outputs": [],
   "source": [
    "def search_index(query, k=3):\n",
    "    # Embed the user query\n",
    "    query_embedding = embedder.encode([query]).astype(\"float32\")\n",
    "    \n",
    "    # Search FAISS for top-k similar chunks\n",
    "    distances, indices = index.search(query_embedding, k)\n",
    "    \n",
    "    # Return the matched chunks\n",
    "    results = [chunks[i] for i in indices[0]]\n",
    "    return results\n"
   ]
  },
  {
   "cell_type": "code",
   "execution_count": 11,
   "id": "48b9dfad-60f0-4a45-bb19-058ccca02f69",
   "metadata": {},
   "outputs": [
    {
     "name": "stdout",
     "output_type": "stream",
     "text": [
      "\n",
      "--- Retrieved Chunk 1 ---\n",
      "Constitution, has become the respon sibility of the Federal  Government, shall devolve upon the Federal Government.     275. Continuance in office of persons in service of Pakistan, etc.     275. (1) Subject to the Constitution and until law is made under\n",
      "\n",
      "--- Retrieved Chunk 2 ---\n",
      "be imposed, as if the law had not been repealed.     CHAPTER 6. – TITLE, COMMENCEMENT AND REPEAL       265. Title of Constitution and commencement     265. (1) This Constitution shall be known as the Constitution of the  Islamic Republic of Pakistan.\n",
      "\n",
      "--- Retrieved Chunk 3 ---\n",
      "This Constituent Assembly representing the people of Pakistan  resolves to frame a constitution for the sovereign independent State of  Pakistan;     Wherein the State shall exercise its powers and authority through  the chosen representatives of the people;\n"
     ]
    }
   ],
   "source": [
    "# Try a question related to the Constitution\n",
    "sample_question = \"What is the process of constitutional amendment in Pakistan?\"\n",
    "matched_chunks = search_index(sample_question)\n",
    "\n",
    "# Show the retrieved chunks\n",
    "for i, chunk in enumerate(matched_chunks):\n",
    "    print(f\"\\n--- Retrieved Chunk {i+1} ---\\n{chunk}\")\n"
   ]
  },
  {
   "cell_type": "code",
   "execution_count": 13,
   "id": "07ebf7e1-64ea-46bb-871a-4cd3397ba527",
   "metadata": {},
   "outputs": [
    {
     "data": {
      "application/vnd.jupyter.widget-view+json": {
       "model_id": "0c479f67fd5d4d39b51f6350392df797",
       "version_major": 2,
       "version_minor": 0
      },
      "text/plain": [
       "config.json:   0%|          | 0.00/473 [00:00<?, ?B/s]"
      ]
     },
     "metadata": {},
     "output_type": "display_data"
    },
    {
     "name": "stderr",
     "output_type": "stream",
     "text": [
      "C:\\Users\\M Amir\\AppData\\Local\\Programs\\Python\\Python311\\Lib\\site-packages\\huggingface_hub\\file_download.py:143: UserWarning: `huggingface_hub` cache-system uses symlinks by default to efficiently store duplicated files but your machine does not support them in C:\\Users\\M Amir\\.cache\\huggingface\\hub\\models--distilbert-base-cased-distilled-squad. Caching files will still work but in a degraded version that might require more space on your disk. This warning can be disabled by setting the `HF_HUB_DISABLE_SYMLINKS_WARNING` environment variable. For more details, see https://huggingface.co/docs/huggingface_hub/how-to-cache#limitations.\n",
      "To support symlinks on Windows, you either need to activate Developer Mode or to run Python as an administrator. In order to activate developer mode, see this article: https://docs.microsoft.com/en-us/windows/apps/get-started/enable-your-device-for-development\n",
      "  warnings.warn(message)\n"
     ]
    },
    {
     "data": {
      "application/vnd.jupyter.widget-view+json": {
       "model_id": "f96eb67bd1aa4edb8d05cac3b4dfe91b",
       "version_major": 2,
       "version_minor": 0
      },
      "text/plain": [
       "model.safetensors:   0%|          | 0.00/261M [00:00<?, ?B/s]"
      ]
     },
     "metadata": {},
     "output_type": "display_data"
    },
    {
     "data": {
      "application/vnd.jupyter.widget-view+json": {
       "model_id": "8fcffe0e495041708a05febb4dcaf855",
       "version_major": 2,
       "version_minor": 0
      },
      "text/plain": [
       "tokenizer_config.json:   0%|          | 0.00/49.0 [00:00<?, ?B/s]"
      ]
     },
     "metadata": {},
     "output_type": "display_data"
    },
    {
     "data": {
      "application/vnd.jupyter.widget-view+json": {
       "model_id": "ed508419a1d344c7adda5dbd5050082d",
       "version_major": 2,
       "version_minor": 0
      },
      "text/plain": [
       "vocab.txt:   0%|          | 0.00/213k [00:00<?, ?B/s]"
      ]
     },
     "metadata": {},
     "output_type": "display_data"
    },
    {
     "data": {
      "application/vnd.jupyter.widget-view+json": {
       "model_id": "a6728c26773c409cbd7eb5a588daa71d",
       "version_major": 2,
       "version_minor": 0
      },
      "text/plain": [
       "tokenizer.json:   0%|          | 0.00/436k [00:00<?, ?B/s]"
      ]
     },
     "metadata": {},
     "output_type": "display_data"
    },
    {
     "name": "stderr",
     "output_type": "stream",
     "text": [
      "Device set to use cpu\n",
      "C:\\Users\\M Amir\\AppData\\Local\\Programs\\Python\\Python311\\Lib\\site-packages\\transformers\\pipelines\\question_answering.py:390: FutureWarning: Passing a list of SQuAD examples to the pipeline is deprecated and will be removed in v5. Inputs should be passed using the `question` and `context` keyword arguments instead.\n",
      "  warnings.warn(\n"
     ]
    },
    {
     "name": "stdout",
     "output_type": "stream",
     "text": [
      "Answer: frame a constitution for the sovereign independent State of  Pakistan\n"
     ]
    }
   ],
   "source": [
    "from transformers import pipeline\n",
    "\n",
    "# Load a small QA pipeline (distilbert works well for CPU)\n",
    "qa_pipeline = pipeline(\"question-answering\", model=\"distilbert-base-cased-distilled-squad\")\n",
    "\n",
    "# Combine chunks into one context\n",
    "context = \"\\n\".join(matched_chunks)\n",
    "\n",
    "# Ask a question\n",
    "response = qa_pipeline({\n",
    "    'context': context,\n",
    "    'question': \"What is the process of constitutional amendment in Pakistan?\"\n",
    "})\n",
    "\n",
    "print(f\"Answer: {response['answer']}\")\n"
   ]
  },
  {
   "cell_type": "code",
   "execution_count": 14,
   "id": "3caf48e7-3c64-460e-81b5-b0314bbf7276",
   "metadata": {},
   "outputs": [],
   "source": [
    "import pickle\n",
    "\n",
    "# Save chunks\n",
    "with open(\"chunks.pkl\", \"wb\") as f:\n",
    "    pickle.dump(chunks, f)\n",
    "\n",
    "# Save FAISS index\n",
    "faiss.write_index(index, \"faiss_index.bin\")\n"
   ]
  },
  {
   "cell_type": "code",
   "execution_count": null,
   "id": "6411733b-dc7d-4526-91a0-af59f8e42e2f",
   "metadata": {},
   "outputs": [],
   "source": []
  }
 ],
 "metadata": {
  "kernelspec": {
   "display_name": "Python 3.11 (NLP)",
   "language": "python",
   "name": "nlp-env"
  },
  "language_info": {
   "codemirror_mode": {
    "name": "ipython",
    "version": 3
   },
   "file_extension": ".py",
   "mimetype": "text/x-python",
   "name": "python",
   "nbconvert_exporter": "python",
   "pygments_lexer": "ipython3",
   "version": "3.11.0"
  }
 },
 "nbformat": 4,
 "nbformat_minor": 5
}
